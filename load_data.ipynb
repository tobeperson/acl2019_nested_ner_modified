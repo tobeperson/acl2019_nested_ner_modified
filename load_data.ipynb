{
 "cells": [
  {
   "cell_type": "code",
   "execution_count": 6,
   "metadata": {},
   "outputs": [],
   "source": [
    "import json\n",
    "def load_data(filename):\n",
    "    D = []\n",
    "    with open(filename) as f:\n",
    "        for l in f:\n",
    "            l = json.loads(l)\n",
    "            arguments = {}\n",
    "            for event in l['event_list']:\n",
    "                for argument in event['arguments']:\n",
    "                    key = argument['argument']\n",
    "                    value = (event['event_type'], argument['role'])  #事件类型+论元角色\n",
    "                    arguments[key] = value\n",
    "            D.append((l['text'], event['event_type']))\n",
    "    return D"
   ]
  },
  {
   "cell_type": "code",
   "execution_count": 7,
   "metadata": {},
   "outputs": [],
   "source": [
    "def load_data_test(filename):\n",
    "    D = []\n",
    "    with open(filename) as f:\n",
    "        for l in f:\n",
    "            l = json.loads(l)\n",
    "            arguments = {}\n",
    "            D.append(l['text'] )\n",
    "    return D"
   ]
  },
  {
   "cell_type": "code",
   "execution_count": 15,
   "metadata": {},
   "outputs": [
    {
     "ename": "NameError",
     "evalue": "name 'train' is not defined",
     "output_type": "error",
     "traceback": [
      "\u001b[0;31m---------------------------------------------------------------------------\u001b[0m",
      "\u001b[0;31mNameError\u001b[0m                                 Traceback (most recent call last)",
      "\u001b[0;32m<ipython-input-15-246f4ac0135d>\u001b[0m in \u001b[0;36m<module>\u001b[0;34m\u001b[0m\n\u001b[0;32m----> 1\u001b[0;31m \u001b[0mprint\u001b[0m\u001b[0;34m(\u001b[0m\u001b[0mtrain\u001b[0m\u001b[0;34m)\u001b[0m\u001b[0;34m\u001b[0m\u001b[0;34m\u001b[0m\u001b[0m\n\u001b[0m",
      "\u001b[0;31mNameError\u001b[0m: name 'train' is not defined"
     ]
    }
   ],
   "source": [
    "print(train)"
   ]
  },
  {
   "cell_type": "code",
   "execution_count": 4,
   "metadata": {},
   "outputs": [
    {
     "name": "stdout",
     "output_type": "stream",
     "text": [
      "2\n"
     ]
    }
   ],
   "source": [
    "import jieba.posseg as pseg\n",
    "text=\"我爱北京天安门，天安门太阳升\"\n",
    "words =pseg.cut(text)\n",
    "vocab={}\n",
    "for w in words:\n",
    "    vocab[w.word]=1\n",
    "key=\"北京天安门\"\n",
    "words=pseg.cut(key)\n",
    "flag=0\n",
    "for w in words:\n",
    "    if vocab[w.word]==1: flag+=1\n",
    "print(flag)"
   ]
  },
  {
   "cell_type": "code",
   "execution_count": 12,
   "metadata": {},
   "outputs": [],
   "source": [
    "import re\n",
    "line=\"this hdr-biz 123 model server 456\"\n",
    "pattern=r\"1243\"\n",
    "m = re.search(pattern,line)\n",
    "if m :\n",
    "    print(\"Ture\")"
   ]
  },
  {
   "cell_type": "code",
   "execution_count": 14,
   "metadata": {},
   "outputs": [
    {
     "name": "stdout",
     "output_type": "stream",
     "text": [
      "{'alexa': 10000, 'url': 'http://blog.csdn.net/uuihoo/'}\n"
     ]
    }
   ],
   "source": [
    "site= {'name': '我的博客地址', 'alexa': 10000, 'url':'http://blog.csdn.net/uuihoo/'}\n",
    "pop_obj=site.pop('name') # 删除要删除的键值对，如{'name':'我的博客地址'}这个键值对\n",
    "print(site)   # 输出 ：我的博客地址"
   ]
  },
  {
   "cell_type": "code",
   "execution_count": null,
   "metadata": {},
   "outputs": [],
   "source": []
  }
 ],
 "metadata": {
  "kernelspec": {
   "display_name": "Python 3",
   "language": "python",
   "name": "python3"
  },
  "language_info": {
   "codemirror_mode": {
    "name": "ipython",
    "version": 3
   },
   "file_extension": ".py",
   "mimetype": "text/x-python",
   "name": "python",
   "nbconvert_exporter": "python",
   "pygments_lexer": "ipython3",
   "version": "3.7.6"
  }
 },
 "nbformat": 4,
 "nbformat_minor": 4
}
